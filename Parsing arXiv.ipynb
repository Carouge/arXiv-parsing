{
 "cells": [
  {
   "cell_type": "code",
   "execution_count": 1,
   "metadata": {},
   "outputs": [],
   "source": [
    "import pandas as pd\n",
    "import requests\n",
    "from bs4 import BeautifulSoup\n",
    "from pprint import pprint"
   ]
  },
  {
   "cell_type": "code",
   "execution_count": 2,
   "metadata": {
    "collapsed": true
   },
   "outputs": [],
   "source": [
    "SUBJECT = 'stat.ML'\n",
    "YEAR = '18'"
   ]
  },
  {
   "cell_type": "code",
   "execution_count": 3,
   "metadata": {},
   "outputs": [],
   "source": [
    "url = 'https://arxiv.org/list/{subj}/{year}'\\\n",
    "    .format(subj=SUBJECT, year=YEAR)"
   ]
  },
  {
   "cell_type": "code",
   "execution_count": 4,
   "metadata": {},
   "outputs": [
    {
     "name": "stdout",
     "output_type": "stream",
     "text": [
      "Status code: 200\n"
     ]
    }
   ],
   "source": [
    "req = requests.get(url)\n",
    "print(\"Status code:\", req.status_code)"
   ]
  },
  {
   "cell_type": "code",
   "execution_count": 5,
   "metadata": {
    "collapsed": true
   },
   "outputs": [],
   "source": [
    "soup = BeautifulSoup(req.text, \"lxml\")"
   ]
  },
  {
   "cell_type": "code",
   "execution_count": 6,
   "metadata": {
    "collapsed": true
   },
   "outputs": [],
   "source": [
    "paperinfo = soup.findAll('dd')\n",
    "paperlink = soup.findAll('dt')"
   ]
  },
  {
   "cell_type": "code",
   "execution_count": 7,
   "metadata": {},
   "outputs": [],
   "source": [
    "df = pd.DataFrame()"
   ]
  },
  {
   "cell_type": "markdown",
   "metadata": {},
   "source": [
    "### Loading paper id"
   ]
  },
  {
   "cell_type": "code",
   "execution_count": 8,
   "metadata": {},
   "outputs": [
    {
     "data": {
      "text/plain": [
       "['1801.00085', '1801.00315', '1801.00364', '1801.00507', '1801.00636']"
      ]
     },
     "execution_count": 8,
     "metadata": {},
     "output_type": "execute_result"
    }
   ],
   "source": [
    "ids = [x.findAll('a')[1].text[6:] for x in paperlink]\n",
    "ids[:5]"
   ]
  },
  {
   "cell_type": "code",
   "execution_count": 9,
   "metadata": {
    "collapsed": true
   },
   "outputs": [],
   "source": [
    "df['id'] = ids"
   ]
  },
  {
   "cell_type": "markdown",
   "metadata": {},
   "source": [
    "### Loading titles"
   ]
  },
  {
   "cell_type": "code",
   "execution_count": 11,
   "metadata": {},
   "outputs": [
    {
     "data": {
      "text/plain": [
       "['Learning Structural Weight Uncertainty for Sequential Decision-Making',\n",
       " 'Learning Relevant Features of Data with Multi-scale Tensor Networks',\n",
       " 'Estimation and Inference of Treatment Effects with $L_2$-Boosting in  High-Dimensional Settings',\n",
       " 'Towards Practical Conditional Risk Minimization',\n",
       " 'Transferable neural networks for enhanced sampling of protein dynamics']"
      ]
     },
     "execution_count": 11,
     "metadata": {},
     "output_type": "execute_result"
    }
   ],
   "source": [
    "titles = [info.find('div', {'class': 'list-title'}).text[8:-1] for info in paperinfo]\n",
    "titles[:5]"
   ]
  },
  {
   "cell_type": "code",
   "execution_count": 12,
   "metadata": {
    "collapsed": true
   },
   "outputs": [],
   "source": [
    "df['title'] = titles"
   ]
  },
  {
   "cell_type": "markdown",
   "metadata": {},
   "source": [
    "### Loading authors"
   ]
  },
  {
   "cell_type": "code",
   "execution_count": 13,
   "metadata": {
    "scrolled": true
   },
   "outputs": [
    {
     "data": {
      "text/plain": [
       "[['Ruiyi Zhang', 'Chunyuan Li', 'Changyou Chen', 'Lawrence Carin'],\n",
       " ['E.M. Stoudenmire'],\n",
       " ['Ye Luo', 'Martin Spindler'],\n",
       " ['Alexander Zimin', 'Christoph Lampert'],\n",
       " ['Mohammad M. Sultan', 'Hannah K. Wayment-Steele', 'Vijay S. Pande']]"
      ]
     },
     "execution_count": 13,
     "metadata": {},
     "output_type": "execute_result"
    }
   ],
   "source": [
    "authors = [[author.text for author in info.findAll('a')] for info in paperinfo]\n",
    "authors[:5]"
   ]
  },
  {
   "cell_type": "code",
   "execution_count": 14,
   "metadata": {
    "collapsed": true
   },
   "outputs": [],
   "source": [
    "df['authors'] = authors"
   ]
  },
  {
   "cell_type": "markdown",
   "metadata": {},
   "source": [
    "### Loading primary subjects"
   ]
  },
  {
   "cell_type": "code",
   "execution_count": 15,
   "metadata": {},
   "outputs": [],
   "source": [
    "subjid = lambda x: x[x.find('(')+1:x.find(')')]"
   ]
  },
  {
   "cell_type": "code",
   "execution_count": 16,
   "metadata": {
    "scrolled": true
   },
   "outputs": [
    {
     "data": {
      "text/plain": [
       "['stat.ML', 'stat.ML', 'stat.ML', 'stat.ML', 'stat.ML']"
      ]
     },
     "execution_count": 16,
     "metadata": {},
     "output_type": "execute_result"
    }
   ],
   "source": [
    "primsubj = [subjid(info.find('span', {'class': 'primary-subject'}).text) for info in paperinfo]\n",
    "primsubj[:5]"
   ]
  },
  {
   "cell_type": "code",
   "execution_count": 17,
   "metadata": {
    "collapsed": true
   },
   "outputs": [],
   "source": [
    "df['primary subject'] = primsubj"
   ]
  },
  {
   "cell_type": "markdown",
   "metadata": {},
   "source": [
    "### Loading secondary subjects"
   ]
  },
  {
   "cell_type": "code",
   "execution_count": 18,
   "metadata": {
    "collapsed": true
   },
   "outputs": [],
   "source": [
    "getsec = lambda x: [subjid(subj) for subj in  x[x.find(';')+2:-2].split(';')]"
   ]
  },
  {
   "cell_type": "code",
   "execution_count": 19,
   "metadata": {
    "scrolled": true
   },
   "outputs": [
    {
     "data": {
      "text/plain": [
       "[['cs.AI', 'cs.LG'],\n",
       " ['cond-mat.stat-mech', 'cond-mat.str-el', 'cs.LG'],\n",
       " ['econ.EM', 'stat.ME'],\n",
       " ['cs.LG'],\n",
       " ['q-bio.BM']]"
      ]
     },
     "execution_count": 19,
     "metadata": {},
     "output_type": "execute_result"
    }
   ],
   "source": [
    "secsubj = [getsec(info.find('div', {'class': 'list-subjects'}).text) for info in paperinfo]\n",
    "secsubj[:5]"
   ]
  },
  {
   "cell_type": "code",
   "execution_count": 20,
   "metadata": {
    "collapsed": true
   },
   "outputs": [],
   "source": [
    "df['secondary subjects'] = secsubj"
   ]
  },
  {
   "cell_type": "markdown",
   "metadata": {},
   "source": [
    "### Data preview"
   ]
  },
  {
   "cell_type": "code",
   "execution_count": 21,
   "metadata": {},
   "outputs": [
    {
     "data": {
      "text/html": [
       "<div>\n",
       "<style>\n",
       "    .dataframe thead tr:only-child th {\n",
       "        text-align: right;\n",
       "    }\n",
       "\n",
       "    .dataframe thead th {\n",
       "        text-align: left;\n",
       "    }\n",
       "\n",
       "    .dataframe tbody tr th {\n",
       "        vertical-align: top;\n",
       "    }\n",
       "</style>\n",
       "<table border=\"1\" class=\"dataframe\">\n",
       "  <thead>\n",
       "    <tr style=\"text-align: right;\">\n",
       "      <th></th>\n",
       "      <th>id</th>\n",
       "      <th>title</th>\n",
       "      <th>authors</th>\n",
       "      <th>primary subject</th>\n",
       "      <th>secondary subjects</th>\n",
       "    </tr>\n",
       "  </thead>\n",
       "  <tbody>\n",
       "    <tr>\n",
       "      <th>0</th>\n",
       "      <td>1801.00085</td>\n",
       "      <td>Learning Structural Weight Uncertainty for Seq...</td>\n",
       "      <td>[Ruiyi Zhang, Chunyuan Li, Changyou Chen, Lawr...</td>\n",
       "      <td>stat.ML</td>\n",
       "      <td>[cs.AI, cs.LG]</td>\n",
       "    </tr>\n",
       "    <tr>\n",
       "      <th>1</th>\n",
       "      <td>1801.00315</td>\n",
       "      <td>Learning Relevant Features of Data with Multi-...</td>\n",
       "      <td>[E.M. Stoudenmire]</td>\n",
       "      <td>stat.ML</td>\n",
       "      <td>[cond-mat.stat-mech, cond-mat.str-el, cs.LG]</td>\n",
       "    </tr>\n",
       "    <tr>\n",
       "      <th>2</th>\n",
       "      <td>1801.00364</td>\n",
       "      <td>Estimation and Inference of Treatment Effects ...</td>\n",
       "      <td>[Ye Luo, Martin Spindler]</td>\n",
       "      <td>stat.ML</td>\n",
       "      <td>[econ.EM, stat.ME]</td>\n",
       "    </tr>\n",
       "    <tr>\n",
       "      <th>3</th>\n",
       "      <td>1801.00507</td>\n",
       "      <td>Towards Practical Conditional Risk Minimization</td>\n",
       "      <td>[Alexander Zimin, Christoph Lampert]</td>\n",
       "      <td>stat.ML</td>\n",
       "      <td>[cs.LG]</td>\n",
       "    </tr>\n",
       "    <tr>\n",
       "      <th>4</th>\n",
       "      <td>1801.00636</td>\n",
       "      <td>Transferable neural networks for enhanced samp...</td>\n",
       "      <td>[Mohammad M. Sultan, Hannah K. Wayment-Steele,...</td>\n",
       "      <td>stat.ML</td>\n",
       "      <td>[q-bio.BM]</td>\n",
       "    </tr>\n",
       "    <tr>\n",
       "      <th>5</th>\n",
       "      <td>1801.00668</td>\n",
       "      <td>Random Euler Complex-Valued Nonlinear Filters</td>\n",
       "      <td>[Jiashu Zhang, Sheng Zhang, Defang Li]</td>\n",
       "      <td>stat.ML</td>\n",
       "      <td>[eess.SP]</td>\n",
       "    </tr>\n",
       "    <tr>\n",
       "      <th>6</th>\n",
       "      <td>1801.00681</td>\n",
       "      <td>A novel improved fuzzy support vector machine ...</td>\n",
       "      <td>[Shuheng Wang, Guohao Li, Yifan Bao]</td>\n",
       "      <td>stat.ML</td>\n",
       "      <td>[q-fin.ST]</td>\n",
       "    </tr>\n",
       "    <tr>\n",
       "      <th>7</th>\n",
       "      <td>1801.00753</td>\n",
       "      <td>Probabilistic supervised learning</td>\n",
       "      <td>[Frithjof Gressmann, Franz J. Király, Bilal Ma...</td>\n",
       "      <td>stat.ML</td>\n",
       "      <td>[cs.LG, math.ST, stat.ME]</td>\n",
       "    </tr>\n",
       "    <tr>\n",
       "      <th>8</th>\n",
       "      <td>1801.00857</td>\n",
       "      <td>Optimal Bayesian Transfer Learning</td>\n",
       "      <td>[Alireza Karbalayghareh, Xiaoning Qian, Edward...</td>\n",
       "      <td>stat.ML</td>\n",
       "      <td>[cs.CV, cs.LG]</td>\n",
       "    </tr>\n",
       "    <tr>\n",
       "      <th>9</th>\n",
       "      <td>1801.01061</td>\n",
       "      <td>Intrinsic Gaussian processes on complex constr...</td>\n",
       "      <td>[Mu Niu, Pokman Cheung, Lizhen Lin, Zhenwen Da...</td>\n",
       "      <td>stat.ML</td>\n",
       "      <td>[cs.LG]</td>\n",
       "    </tr>\n",
       "    <tr>\n",
       "      <th>10</th>\n",
       "      <td>1801.01401</td>\n",
       "      <td>Demystifying MMD GANs</td>\n",
       "      <td>[Mikołaj Bińkowski, Dougal J. Sutherland, Mich...</td>\n",
       "      <td>stat.ML</td>\n",
       "      <td>[cs.LG]</td>\n",
       "    </tr>\n",
       "    <tr>\n",
       "      <th>11</th>\n",
       "      <td>1801.01469</td>\n",
       "      <td>PHOENICS: A universal deep Bayesian optimizer</td>\n",
       "      <td>[Florian Häse, Loïc M. Roch, Christoph Kreisbe...</td>\n",
       "      <td>stat.ML</td>\n",
       "      <td>[physics.chem-ph]</td>\n",
       "    </tr>\n",
       "    <tr>\n",
       "      <th>12</th>\n",
       "      <td>1801.01587</td>\n",
       "      <td>SpectralNet: Spectral Clustering using Deep Ne...</td>\n",
       "      <td>[Uri Shaham, Kelly Stanton, Henry Li, Boaz Nad...</td>\n",
       "      <td>stat.ML</td>\n",
       "      <td>[cs.LG]</td>\n",
       "    </tr>\n",
       "    <tr>\n",
       "      <th>13</th>\n",
       "      <td>1801.01649</td>\n",
       "      <td>Gauged Mini-Bucket Elimination for Approximate...</td>\n",
       "      <td>[Sungsoo Ahn, Michael Chertkov, Jinwoo Shin, A...</td>\n",
       "      <td>stat.ML</td>\n",
       "      <td>[stat.M]</td>\n",
       "    </tr>\n",
       "    <tr>\n",
       "      <th>14</th>\n",
       "      <td>1801.01799</td>\n",
       "      <td>Closed-form marginal likelihood in Gamma-Poiss...</td>\n",
       "      <td>[Louis Filstroff, Alberto Lumbreras, Cédric Fé...</td>\n",
       "      <td>stat.ML</td>\n",
       "      <td>[cs.LG]</td>\n",
       "    </tr>\n",
       "    <tr>\n",
       "      <th>15</th>\n",
       "      <td>1801.01952</td>\n",
       "      <td>Generating Neural Networks with Neural Networks</td>\n",
       "      <td>[Lior Deutsch]</td>\n",
       "      <td>stat.ML</td>\n",
       "      <td>[cs.LG]</td>\n",
       "    </tr>\n",
       "    <tr>\n",
       "      <th>16</th>\n",
       "      <td>1801.01953</td>\n",
       "      <td>Adversarial Perturbation Intensity Achieving C...</td>\n",
       "      <td>[Martin Gubri]</td>\n",
       "      <td>stat.ML</td>\n",
       "      <td>[cs.LG]</td>\n",
       "    </tr>\n",
       "    <tr>\n",
       "      <th>17</th>\n",
       "      <td>1801.01961</td>\n",
       "      <td>Compressive sensing adaptation for polynomial ...</td>\n",
       "      <td>[Panagiotis Tsilifis, Xun Huan, Cosmin Safta, ...</td>\n",
       "      <td>stat.ML</td>\n",
       "      <td>[stat.M]</td>\n",
       "    </tr>\n",
       "    <tr>\n",
       "      <th>18</th>\n",
       "      <td>1801.01973</td>\n",
       "      <td>A Note on the Inception Score</td>\n",
       "      <td>[Shane Barratt, Rishi Sharma]</td>\n",
       "      <td>stat.ML</td>\n",
       "      <td>[cs.LG]</td>\n",
       "    </tr>\n",
       "    <tr>\n",
       "      <th>19</th>\n",
       "      <td>1801.02124</td>\n",
       "      <td>Competitive Multi-agent Inverse Reinforcement ...</td>\n",
       "      <td>[Xingyu Wang, Diego Klabjan]</td>\n",
       "      <td>stat.ML</td>\n",
       "      <td>[cs.LG]</td>\n",
       "    </tr>\n",
       "    <tr>\n",
       "      <th>20</th>\n",
       "      <td>1801.02227</td>\n",
       "      <td>Gradient Layer: Enhancing the Convergence of A...</td>\n",
       "      <td>[Atsushi Nitanda, Taiji Suzuki]</td>\n",
       "      <td>stat.ML</td>\n",
       "      <td>[cs.LG]</td>\n",
       "    </tr>\n",
       "    <tr>\n",
       "      <th>21</th>\n",
       "      <td>1801.02257</td>\n",
       "      <td>Denoising Dictionary Learning Against Adversar...</td>\n",
       "      <td>[John Mitro, Derek Bridge, Steven Prestwich]</td>\n",
       "      <td>stat.ML</td>\n",
       "      <td>[cs.LG]</td>\n",
       "    </tr>\n",
       "    <tr>\n",
       "      <th>22</th>\n",
       "      <td>1801.02294</td>\n",
       "      <td>Learning Tree-based Deep Model for Recommender...</td>\n",
       "      <td>[Han Zhu, Pengye Zhang, Guozheng Li, Jie He, H...</td>\n",
       "      <td>stat.ML</td>\n",
       "      <td>[cs.IR, cs.LG]</td>\n",
       "    </tr>\n",
       "    <tr>\n",
       "      <th>23</th>\n",
       "      <td>1801.02309</td>\n",
       "      <td>Log-concave sampling: Metropolis-Hastings algo...</td>\n",
       "      <td>[Raaz Dwivedi, Yuansi Chen, Martin J. Wainwrig...</td>\n",
       "      <td>stat.ML</td>\n",
       "      <td>[stat.CO]</td>\n",
       "    </tr>\n",
       "    <tr>\n",
       "      <th>24</th>\n",
       "      <td>1801.02736</td>\n",
       "      <td>Modeling sepsis progression using hidden Marko...</td>\n",
       "      <td>[Brenden K. Petersen, Michael B. Mayhew, Kalvi...</td>\n",
       "      <td>stat.ML</td>\n",
       "      <td>[q-bio.QM]</td>\n",
       "    </tr>\n",
       "  </tbody>\n",
       "</table>\n",
       "</div>"
      ],
      "text/plain": [
       "            id                                              title  \\\n",
       "0   1801.00085  Learning Structural Weight Uncertainty for Seq...   \n",
       "1   1801.00315  Learning Relevant Features of Data with Multi-...   \n",
       "2   1801.00364  Estimation and Inference of Treatment Effects ...   \n",
       "3   1801.00507    Towards Practical Conditional Risk Minimization   \n",
       "4   1801.00636  Transferable neural networks for enhanced samp...   \n",
       "5   1801.00668      Random Euler Complex-Valued Nonlinear Filters   \n",
       "6   1801.00681  A novel improved fuzzy support vector machine ...   \n",
       "7   1801.00753                  Probabilistic supervised learning   \n",
       "8   1801.00857                 Optimal Bayesian Transfer Learning   \n",
       "9   1801.01061  Intrinsic Gaussian processes on complex constr...   \n",
       "10  1801.01401                              Demystifying MMD GANs   \n",
       "11  1801.01469      PHOENICS: A universal deep Bayesian optimizer   \n",
       "12  1801.01587  SpectralNet: Spectral Clustering using Deep Ne...   \n",
       "13  1801.01649  Gauged Mini-Bucket Elimination for Approximate...   \n",
       "14  1801.01799  Closed-form marginal likelihood in Gamma-Poiss...   \n",
       "15  1801.01952    Generating Neural Networks with Neural Networks   \n",
       "16  1801.01953  Adversarial Perturbation Intensity Achieving C...   \n",
       "17  1801.01961  Compressive sensing adaptation for polynomial ...   \n",
       "18  1801.01973                      A Note on the Inception Score   \n",
       "19  1801.02124  Competitive Multi-agent Inverse Reinforcement ...   \n",
       "20  1801.02227  Gradient Layer: Enhancing the Convergence of A...   \n",
       "21  1801.02257  Denoising Dictionary Learning Against Adversar...   \n",
       "22  1801.02294  Learning Tree-based Deep Model for Recommender...   \n",
       "23  1801.02309  Log-concave sampling: Metropolis-Hastings algo...   \n",
       "24  1801.02736  Modeling sepsis progression using hidden Marko...   \n",
       "\n",
       "                                              authors primary subject  \\\n",
       "0   [Ruiyi Zhang, Chunyuan Li, Changyou Chen, Lawr...         stat.ML   \n",
       "1                                  [E.M. Stoudenmire]         stat.ML   \n",
       "2                           [Ye Luo, Martin Spindler]         stat.ML   \n",
       "3                [Alexander Zimin, Christoph Lampert]         stat.ML   \n",
       "4   [Mohammad M. Sultan, Hannah K. Wayment-Steele,...         stat.ML   \n",
       "5              [Jiashu Zhang, Sheng Zhang, Defang Li]         stat.ML   \n",
       "6                [Shuheng Wang, Guohao Li, Yifan Bao]         stat.ML   \n",
       "7   [Frithjof Gressmann, Franz J. Király, Bilal Ma...         stat.ML   \n",
       "8   [Alireza Karbalayghareh, Xiaoning Qian, Edward...         stat.ML   \n",
       "9   [Mu Niu, Pokman Cheung, Lizhen Lin, Zhenwen Da...         stat.ML   \n",
       "10  [Mikołaj Bińkowski, Dougal J. Sutherland, Mich...         stat.ML   \n",
       "11  [Florian Häse, Loïc M. Roch, Christoph Kreisbe...         stat.ML   \n",
       "12  [Uri Shaham, Kelly Stanton, Henry Li, Boaz Nad...         stat.ML   \n",
       "13  [Sungsoo Ahn, Michael Chertkov, Jinwoo Shin, A...         stat.ML   \n",
       "14  [Louis Filstroff, Alberto Lumbreras, Cédric Fé...         stat.ML   \n",
       "15                                     [Lior Deutsch]         stat.ML   \n",
       "16                                     [Martin Gubri]         stat.ML   \n",
       "17  [Panagiotis Tsilifis, Xun Huan, Cosmin Safta, ...         stat.ML   \n",
       "18                      [Shane Barratt, Rishi Sharma]         stat.ML   \n",
       "19                       [Xingyu Wang, Diego Klabjan]         stat.ML   \n",
       "20                    [Atsushi Nitanda, Taiji Suzuki]         stat.ML   \n",
       "21       [John Mitro, Derek Bridge, Steven Prestwich]         stat.ML   \n",
       "22  [Han Zhu, Pengye Zhang, Guozheng Li, Jie He, H...         stat.ML   \n",
       "23  [Raaz Dwivedi, Yuansi Chen, Martin J. Wainwrig...         stat.ML   \n",
       "24  [Brenden K. Petersen, Michael B. Mayhew, Kalvi...         stat.ML   \n",
       "\n",
       "                              secondary subjects  \n",
       "0                                 [cs.AI, cs.LG]  \n",
       "1   [cond-mat.stat-mech, cond-mat.str-el, cs.LG]  \n",
       "2                             [econ.EM, stat.ME]  \n",
       "3                                        [cs.LG]  \n",
       "4                                     [q-bio.BM]  \n",
       "5                                      [eess.SP]  \n",
       "6                                     [q-fin.ST]  \n",
       "7                      [cs.LG, math.ST, stat.ME]  \n",
       "8                                 [cs.CV, cs.LG]  \n",
       "9                                        [cs.LG]  \n",
       "10                                       [cs.LG]  \n",
       "11                             [physics.chem-ph]  \n",
       "12                                       [cs.LG]  \n",
       "13                                      [stat.M]  \n",
       "14                                       [cs.LG]  \n",
       "15                                       [cs.LG]  \n",
       "16                                       [cs.LG]  \n",
       "17                                      [stat.M]  \n",
       "18                                       [cs.LG]  \n",
       "19                                       [cs.LG]  \n",
       "20                                       [cs.LG]  \n",
       "21                                       [cs.LG]  \n",
       "22                                [cs.IR, cs.LG]  \n",
       "23                                     [stat.CO]  \n",
       "24                                    [q-bio.QM]  "
      ]
     },
     "execution_count": 21,
     "metadata": {},
     "output_type": "execute_result"
    }
   ],
   "source": [
    "df"
   ]
  },
  {
   "cell_type": "code",
   "execution_count": null,
   "metadata": {
    "collapsed": true
   },
   "outputs": [],
   "source": []
  }
 ],
 "metadata": {
  "kernelspec": {
   "display_name": "Python 3",
   "language": "python",
   "name": "python3"
  },
  "language_info": {
   "codemirror_mode": {
    "name": "ipython",
    "version": 3
   },
   "file_extension": ".py",
   "mimetype": "text/x-python",
   "name": "python",
   "nbconvert_exporter": "python",
   "pygments_lexer": "ipython3",
   "version": "3.6.2"
  }
 },
 "nbformat": 4,
 "nbformat_minor": 2
}
