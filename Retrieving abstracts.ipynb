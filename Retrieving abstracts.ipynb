{
 "cells": [
  {
   "cell_type": "code",
   "execution_count": 108,
   "metadata": {
    "collapsed": true
   },
   "outputs": [],
   "source": [
    "import os\n",
    "import numpy as np\n",
    "import pandas as pd\n",
    "import requests\n",
    "from bs4 import BeautifulSoup\n",
    "from tqdm import tqdm"
   ]
  },
  {
   "cell_type": "code",
   "execution_count": 78,
   "metadata": {},
   "outputs": [
    {
     "name": "stdout",
     "output_type": "stream",
     "text": [
      "2000\n"
     ]
    },
    {
     "data": {
      "text/plain": [
       "['0912.3211v1.pdf',\n",
       " '1101.3462v1.pdf',\n",
       " '1105.1758v1.pdf',\n",
       " '1202.3758v1.pdf',\n",
       " '1705.04886v2.pdf']"
      ]
     },
     "execution_count": 78,
     "metadata": {},
     "output_type": "execute_result"
    }
   ],
   "source": [
    "papers = os.listdir('papers/')\n",
    "papers = [name for name in papers if name != '.DS_Store']\n",
    "print(len(papers))\n",
    "papers[:5]"
   ]
  },
  {
   "cell_type": "code",
   "execution_count": 79,
   "metadata": {},
   "outputs": [
    {
     "data": {
      "text/plain": [
       "['0912.3211v1', '1101.3462v1', '1105.1758v1', '1202.3758v1', '1705.04886v2']"
      ]
     },
     "execution_count": 79,
     "metadata": {},
     "output_type": "execute_result"
    }
   ],
   "source": [
    "ids = [name[:-4] for name in papers]\n",
    "ids[:5]"
   ]
  },
  {
   "cell_type": "code",
   "execution_count": 80,
   "metadata": {},
   "outputs": [
    {
     "data": {
      "text/plain": [
       "['https://arxiv.org/abs/0912.3211v1',\n",
       " 'https://arxiv.org/abs/1101.3462v1',\n",
       " 'https://arxiv.org/abs/1105.1758v1',\n",
       " 'https://arxiv.org/abs/1202.3758v1',\n",
       " 'https://arxiv.org/abs/1705.04886v2']"
      ]
     },
     "execution_count": 80,
     "metadata": {},
     "output_type": "execute_result"
    }
   ],
   "source": [
    "urls = ['https://arxiv.org/abs/{}'.format(each) for each in ids]\n",
    "urls[:5]"
   ]
  },
  {
   "cell_type": "code",
   "execution_count": 81,
   "metadata": {},
   "outputs": [
    {
     "data": {
      "text/html": [
       "<div>\n",
       "<style>\n",
       "    .dataframe thead tr:only-child th {\n",
       "        text-align: right;\n",
       "    }\n",
       "\n",
       "    .dataframe thead th {\n",
       "        text-align: left;\n",
       "    }\n",
       "\n",
       "    .dataframe tbody tr th {\n",
       "        vertical-align: top;\n",
       "    }\n",
       "</style>\n",
       "<table border=\"1\" class=\"dataframe\">\n",
       "  <thead>\n",
       "    <tr style=\"text-align: right;\">\n",
       "      <th></th>\n",
       "      <th>abstract</th>\n",
       "    </tr>\n",
       "  </thead>\n",
       "  <tbody>\n",
       "    <tr>\n",
       "      <th>0912.3211v1</th>\n",
       "      <td>NaN</td>\n",
       "    </tr>\n",
       "    <tr>\n",
       "      <th>1101.3462v1</th>\n",
       "      <td>NaN</td>\n",
       "    </tr>\n",
       "    <tr>\n",
       "      <th>1105.1758v1</th>\n",
       "      <td>NaN</td>\n",
       "    </tr>\n",
       "    <tr>\n",
       "      <th>1202.3758v1</th>\n",
       "      <td>NaN</td>\n",
       "    </tr>\n",
       "    <tr>\n",
       "      <th>1705.04886v2</th>\n",
       "      <td>NaN</td>\n",
       "    </tr>\n",
       "  </tbody>\n",
       "</table>\n",
       "</div>"
      ],
      "text/plain": [
       "             abstract\n",
       "0912.3211v1       NaN\n",
       "1101.3462v1       NaN\n",
       "1105.1758v1       NaN\n",
       "1202.3758v1       NaN\n",
       "1705.04886v2      NaN"
      ]
     },
     "execution_count": 81,
     "metadata": {},
     "output_type": "execute_result"
    }
   ],
   "source": [
    "df = pd.DataFrame(columns=['abstract'], index=ids)\n",
    "df.head()"
   ]
  },
  {
   "cell_type": "code",
   "execution_count": 136,
   "metadata": {},
   "outputs": [
    {
     "name": "stderr",
     "output_type": "stream",
     "text": [
      "\n",
      "  0%|          | 0/2000 [00:00<?, ?it/s]\u001b[A\n",
      " 60%|██████    | 1207/2000 [00:01<00:01, 787.28it/s]\u001b[A\n",
      "100%|██████████| 2000/2000 [16:31<00:00,  1.22s/it] \n"
     ]
    }
   ],
   "source": [
    "for i in tqdm(range(len(urls))):\n",
    "    if (pd.isnull(df.abstract.iloc[i])):\n",
    "        req = requests.get(urls[i])\n",
    "        \n",
    "        if req.status_code == 200:\n",
    "            soup = BeautifulSoup(req.text, \"lxml\")\n",
    "\n",
    "            # Extract abstract\n",
    "            abstract = soup.find('blockquote', {'class': 'abstract'})\n",
    "\n",
    "            # Remove 'Abstract: '\n",
    "            abstract = abstract.text[11:]\n",
    "\n",
    "            # Remove '\\n'\n",
    "            abstract = abstract.replace('\\n', ' ')\n",
    "\n",
    "            # Remove trailing whitespaces\n",
    "            abstract = abstract.strip()\n",
    "\n",
    "            df.iloc[i,:] = abstract"
   ]
  },
  {
   "cell_type": "code",
   "execution_count": 138,
   "metadata": {
    "collapsed": true
   },
   "outputs": [],
   "source": [
    "df.to_csv('abstracts.csv', header=False)"
   ]
  },
  {
   "cell_type": "code",
   "execution_count": 137,
   "metadata": {},
   "outputs": [
    {
     "data": {
      "text/plain": [
       "(2000, 1)"
      ]
     },
     "execution_count": 137,
     "metadata": {},
     "output_type": "execute_result"
    }
   ],
   "source": [
    "df.dropna().shape"
   ]
  },
  {
   "cell_type": "code",
   "execution_count": null,
   "metadata": {
    "collapsed": true
   },
   "outputs": [],
   "source": []
  }
 ],
 "metadata": {
  "kernelspec": {
   "display_name": "Python 3",
   "language": "python",
   "name": "python3"
  },
  "language_info": {
   "codemirror_mode": {
    "name": "ipython",
    "version": 3
   },
   "file_extension": ".py",
   "mimetype": "text/x-python",
   "name": "python",
   "nbconvert_exporter": "python",
   "pygments_lexer": "ipython3",
   "version": "3.6.2"
  }
 },
 "nbformat": 4,
 "nbformat_minor": 2
}
